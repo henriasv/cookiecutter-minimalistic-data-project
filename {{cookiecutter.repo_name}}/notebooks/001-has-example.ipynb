{
 "cells": [
  {
   "cell_type": "markdown",
   "metadata": {},
   "source": [
    "# Example of using the functionality in {{cookiecutter.module_name}}"
   ]
  },
  {
   "cell_type": "code",
   "execution_count": null,
   "metadata": {},
   "outputs": [],
   "source": [
    "import {{cookiecutter.module_name}}.analysis\n",
    "from {{cookiecutter.module_name}}.analysis import example_analysis_sum\n",
    "a = [3, 4, 5]\n",
    "b = example_analysis_sum(a)\n",
    "b\n"
   ]
  },
  {
   "cell_type": "code",
   "execution_count": null,
   "metadata": {},
   "outputs": [],
   "source": [
    "import numpy as np\n",
    "\n",
    "x = np.linspace(0, 1, 100)\n",
    "y = x**2 \n",
    "\n",
    "from {{cookiecutter.module_name}}.visualization import example_visualization_plot\n",
    "example_visualization_plot(x, y)"
   ]
  }
 ],
 "metadata": {
  "kernelspec": {
   "display_name": "Python 3",
   "language": "python",
   "name": "python3"
  },
  "language_info": {
   "codemirror_mode": {
    "name": "ipython",
    "version": 3
   },
   "file_extension": ".py",
   "mimetype": "text/x-python",
   "name": "python",
   "nbconvert_exporter": "python",
   "pygments_lexer": "ipython3",
   "version": "3.8.2"
  }
 },
 "nbformat": 4,
 "nbformat_minor": 4
}
